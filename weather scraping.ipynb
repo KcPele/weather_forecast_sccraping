{
 "cells": [
  {
   "cell_type": "markdown",
   "metadata": {},
   "source": [
    "# Scraping Weather Forecast "
   ]
  },
  {
   "cell_type": "markdown",
   "metadata": {},
   "source": [
    "## Our aims and Objectives\n",
    "- to get the weather forecast for each day\n",
    "- to get the temperature\n",
    "- to get the short description\n",
    "- image url for each weather day\n",
    "- full description of each day"
   ]
  },
  {
   "cell_type": "markdown",
   "metadata": {},
   "source": [
    "Here we wil be importing all the libraries we need which is \n",
    "- pandas: for converting it to a csv file\n",
    "- requests: for getting or downloading the website for scraping\n",
    "- BeautifulSoup: for converting our downloaded page to a working data"
   ]
  },
  {
   "cell_type": "code",
   "execution_count": 1,
   "metadata": {},
   "outputs": [],
   "source": [
    "project_name = 'weather scraping'"
   ]
  },
  {
   "cell_type": "code",
   "execution_count": 2,
   "metadata": {},
   "outputs": [
    {
     "data": {
      "application/javascript": [
       "window.require && require([\"base/js/namespace\"],function(Jupyter){Jupyter.notebook.save_checkpoint()})"
      ],
      "text/plain": [
       "<IPython.core.display.Javascript object>"
      ]
     },
     "metadata": {},
     "output_type": "display_data"
    },
    {
     "name": "stdout",
     "output_type": "stream",
     "text": [
      "[jovian] Attempting to save notebook..\n",
      "[jovian] Updating notebook \"fidekg123/weather-scraping\" on https://jovian.ai/\n",
      "[jovian] Uploading notebook..\n",
      "[jovian] Capturing environment..\n",
      "[jovian] Committed successfully! https://jovian.ai/fidekg123/weather-scraping\n"
     ]
    },
    {
     "data": {
      "text/plain": [
       "'https://jovian.ai/fidekg123/weather-scraping'"
      ]
     },
     "execution_count": 2,
     "metadata": {},
     "output_type": "execute_result"
    }
   ],
   "source": [
    "jovian.commit(project_name=project_name)"
   ]
  },
  {
   "cell_type": "code",
   "execution_count": 3,
   "metadata": {},
   "outputs": [],
   "source": [
    "import pandas as pd\n",
    "import requests\n",
    "from bs4 import BeautifulSoup"
   ]
  },
  {
   "cell_type": "code",
   "execution_count": 4,
   "metadata": {},
   "outputs": [],
   "source": [
    "page_url = 'https://forecast.weather.gov/MapClick.php?lat=34.09927000000005&lon=-118.33806999999996#.YJVuxC1Ki02'"
   ]
  },
  {
   "cell_type": "code",
   "execution_count": 5,
   "metadata": {},
   "outputs": [],
   "source": [
    "page_response = requests.get(page_url)"
   ]
  },
  {
   "cell_type": "code",
   "execution_count": 6,
   "metadata": {},
   "outputs": [
    {
     "data": {
      "text/plain": [
       "200"
      ]
     },
     "execution_count": 6,
     "metadata": {},
     "output_type": "execute_result"
    }
   ],
   "source": [
    "page_response.status_code"
   ]
  },
  {
   "cell_type": "code",
   "execution_count": null,
   "metadata": {},
   "outputs": [],
   "source": []
  },
  {
   "cell_type": "code",
   "execution_count": 7,
   "metadata": {},
   "outputs": [],
   "source": [
    "page_content = BeautifulSoup(page_response.text, 'html.parser')"
   ]
  },
  {
   "cell_type": "code",
   "execution_count": 8,
   "metadata": {},
   "outputs": [],
   "source": [
    "weather_content = page_content.find(id = 'seven-day-forecast-container')"
   ]
  },
  {
   "cell_type": "code",
   "execution_count": null,
   "metadata": {},
   "outputs": [],
   "source": []
  },
  {
   "cell_type": "code",
   "execution_count": 9,
   "metadata": {},
   "outputs": [],
   "source": [
    "days = page_content.find_all('p', {'class':'period-name'})"
   ]
  },
  {
   "cell_type": "markdown",
   "metadata": {},
   "source": [
    "We will use list comprehention to iterate through the days"
   ]
  },
  {
   "cell_type": "code",
   "execution_count": 10,
   "metadata": {},
   "outputs": [],
   "source": [
    "week_days = [day.text for day in days  ]"
   ]
  },
  {
   "cell_type": "code",
   "execution_count": 11,
   "metadata": {},
   "outputs": [
    {
     "data": {
      "text/plain": [
       "['ThisAfternoon',\n",
       " 'Tonight',\n",
       " 'Saturday',\n",
       " 'SaturdayNight',\n",
       " 'Sunday',\n",
       " 'SundayNight',\n",
       " 'Monday',\n",
       " 'MondayNight',\n",
       " 'Tuesday']"
      ]
     },
     "execution_count": 11,
     "metadata": {},
     "output_type": "execute_result"
    }
   ],
   "source": [
    "week_days"
   ]
  },
  {
   "cell_type": "code",
   "execution_count": null,
   "metadata": {},
   "outputs": [],
   "source": []
  },
  {
   "cell_type": "code",
   "execution_count": 12,
   "metadata": {},
   "outputs": [],
   "source": [
    "short_desc = page_content.find_all('p', {'class':'short-desc'})"
   ]
  },
  {
   "cell_type": "code",
   "execution_count": 13,
   "metadata": {},
   "outputs": [],
   "source": [
    "short_description = [short_des.text for short_des in short_desc]"
   ]
  },
  {
   "cell_type": "code",
   "execution_count": 14,
   "metadata": {},
   "outputs": [
    {
     "data": {
      "text/plain": [
       "['Sunny',\n",
       " 'Patchy Fog',\n",
       " 'Patchy Fogthen Sunny',\n",
       " 'Patchy Fog',\n",
       " 'Patchy Fogthen MostlySunny',\n",
       " 'Patchy Fog',\n",
       " 'Patchy Fogthen Sunny',\n",
       " 'Patchy Fog',\n",
       " 'Patchy Fogthen Sunny']"
      ]
     },
     "execution_count": 14,
     "metadata": {},
     "output_type": "execute_result"
    }
   ],
   "source": [
    "short_description"
   ]
  },
  {
   "cell_type": "code",
   "execution_count": 15,
   "metadata": {},
   "outputs": [],
   "source": [
    "imgs = weather_content.find_all('img')\n"
   ]
  },
  {
   "cell_type": "code",
   "execution_count": 16,
   "metadata": {},
   "outputs": [],
   "source": [
    "img_url = [img['src'] for img in imgs]"
   ]
  },
  {
   "cell_type": "code",
   "execution_count": 17,
   "metadata": {},
   "outputs": [
    {
     "data": {
      "text/plain": [
       "['newimages/medium/skc.png',\n",
       " 'newimages/medium/nfg.png',\n",
       " 'DualImage.php?i=fg&j=few',\n",
       " 'newimages/medium/nfg.png',\n",
       " 'DualImage.php?i=fg&j=sct',\n",
       " 'newimages/medium/nfg.png',\n",
       " 'DualImage.php?i=fg&j=few',\n",
       " 'newimages/medium/nfg.png',\n",
       " 'DualImage.php?i=fg&j=skc']"
      ]
     },
     "execution_count": 17,
     "metadata": {},
     "output_type": "execute_result"
    }
   ],
   "source": [
    "img_url"
   ]
  },
  {
   "cell_type": "code",
   "execution_count": 18,
   "metadata": {},
   "outputs": [],
   "source": [
    "base_url = 'https://'"
   ]
  },
  {
   "cell_type": "code",
   "execution_count": 19,
   "metadata": {},
   "outputs": [],
   "source": [
    "img_url = [base_url + img for img in img_url]"
   ]
  },
  {
   "cell_type": "code",
   "execution_count": 20,
   "metadata": {},
   "outputs": [
    {
     "data": {
      "text/plain": [
       "['https://newimages/medium/skc.png',\n",
       " 'https://newimages/medium/nfg.png',\n",
       " 'https://DualImage.php?i=fg&j=few',\n",
       " 'https://newimages/medium/nfg.png',\n",
       " 'https://DualImage.php?i=fg&j=sct',\n",
       " 'https://newimages/medium/nfg.png',\n",
       " 'https://DualImage.php?i=fg&j=few',\n",
       " 'https://newimages/medium/nfg.png',\n",
       " 'https://DualImage.php?i=fg&j=skc']"
      ]
     },
     "execution_count": 20,
     "metadata": {},
     "output_type": "execute_result"
    }
   ],
   "source": [
    "img_url"
   ]
  },
  {
   "cell_type": "code",
   "execution_count": 21,
   "metadata": {},
   "outputs": [],
   "source": [
    "temps = weather_content.find_all('p', {'class':'temp'})"
   ]
  },
  {
   "cell_type": "code",
   "execution_count": 22,
   "metadata": {},
   "outputs": [],
   "source": [
    "temperature = [temp.text for temp in temps]"
   ]
  },
  {
   "cell_type": "code",
   "execution_count": 23,
   "metadata": {},
   "outputs": [
    {
     "data": {
      "text/plain": [
       "['High: 72 °F',\n",
       " 'Low: 55 °F',\n",
       " 'High: 78 °F',\n",
       " 'Low: 59 °F',\n",
       " 'High: 78 °F',\n",
       " 'Low: 56 °F',\n",
       " 'High: 77 °F',\n",
       " 'Low: 56 °F',\n",
       " 'High: 81 °F']"
      ]
     },
     "execution_count": 23,
     "metadata": {},
     "output_type": "execute_result"
    }
   ],
   "source": [
    "temperature"
   ]
  },
  {
   "cell_type": "markdown",
   "metadata": {},
   "source": [
    "I converted the temperature to be in celcuis"
   ]
  },
  {
   "cell_type": "code",
   "execution_count": 24,
   "metadata": {},
   "outputs": [],
   "source": [
    "def temp_celcuis(temp):\n",
    "    return int(temp.split()[1]) + 273"
   ]
  },
  {
   "cell_type": "code",
   "execution_count": 25,
   "metadata": {},
   "outputs": [
    {
     "name": "stdout",
     "output_type": "stream",
     "text": [
      "345\n"
     ]
    }
   ],
   "source": [
    "print(temp_celcuis(temperature[0]))"
   ]
  },
  {
   "cell_type": "code",
   "execution_count": 26,
   "metadata": {},
   "outputs": [],
   "source": [
    "temperature_cel = []\n",
    "for i in range(len(temperature)):\n",
    "    temperature_cel.append(temp_celcuis(temperature[i]))"
   ]
  },
  {
   "cell_type": "code",
   "execution_count": 27,
   "metadata": {},
   "outputs": [
    {
     "data": {
      "text/plain": [
       "[345, 328, 351, 332, 351, 329, 350, 329, 354]"
      ]
     },
     "execution_count": 27,
     "metadata": {},
     "output_type": "execute_result"
    }
   ],
   "source": [
    "temperature_cel"
   ]
  },
  {
   "cell_type": "code",
   "execution_count": 28,
   "metadata": {},
   "outputs": [],
   "source": [
    "more_descs = page_content.find_all('div', {'class':'row-forecast'})"
   ]
  },
  {
   "cell_type": "code",
   "execution_count": 29,
   "metadata": {},
   "outputs": [],
   "source": [
    "more_desc_for_days = [more_desc.b.text for more_desc in more_descs]"
   ]
  },
  {
   "cell_type": "code",
   "execution_count": 30,
   "metadata": {},
   "outputs": [
    {
     "data": {
      "text/plain": [
       "['This Afternoon',\n",
       " 'Tonight',\n",
       " 'Saturday',\n",
       " 'Saturday Night',\n",
       " 'Sunday',\n",
       " 'Sunday Night',\n",
       " 'Monday',\n",
       " 'Monday Night',\n",
       " 'Tuesday',\n",
       " 'Tuesday Night',\n",
       " 'Wednesday',\n",
       " 'Wednesday Night',\n",
       " 'Thursday']"
      ]
     },
     "execution_count": 30,
     "metadata": {},
     "output_type": "execute_result"
    }
   ],
   "source": [
    "more_desc_for_days"
   ]
  },
  {
   "cell_type": "code",
   "execution_count": 31,
   "metadata": {},
   "outputs": [],
   "source": [
    "description = [more_desc.find(class_='forecast-text').text  for more_desc in more_descs]"
   ]
  },
  {
   "cell_type": "code",
   "execution_count": null,
   "metadata": {},
   "outputs": [],
   "source": []
  },
  {
   "cell_type": "code",
   "execution_count": 32,
   "metadata": {},
   "outputs": [
    {
     "data": {
      "application/javascript": [
       "window.require && require([\"base/js/namespace\"],function(Jupyter){Jupyter.notebook.save_checkpoint()})"
      ],
      "text/plain": [
       "<IPython.core.display.Javascript object>"
      ]
     },
     "metadata": {},
     "output_type": "display_data"
    },
    {
     "name": "stdout",
     "output_type": "stream",
     "text": [
      "[jovian] Attempting to save notebook..\n",
      "[jovian] Updating notebook \"fidekg123/weather-scraping\" on https://jovian.ai/\n",
      "[jovian] Uploading notebook..\n",
      "[jovian] Capturing environment..\n",
      "[jovian] Committed successfully! https://jovian.ai/fidekg123/weather-scraping\n"
     ]
    },
    {
     "data": {
      "text/plain": [
       "'https://jovian.ai/fidekg123/weather-scraping'"
      ]
     },
     "execution_count": 32,
     "metadata": {},
     "output_type": "execute_result"
    }
   ],
   "source": [
    "jovian.commit()"
   ]
  },
  {
   "cell_type": "markdown",
   "metadata": {},
   "source": [
    "## Gethering of our data and cleaning"
   ]
  },
  {
   "cell_type": "markdown",
   "metadata": {},
   "source": [
    "- week_days\n",
    "- short_desc\n",
    "- img_url\n",
    "- temperature\n",
    "- temperature_cel\n",
    "- more_desc_for_days\n",
    "- description"
   ]
  },
  {
   "cell_type": "markdown",
   "metadata": {},
   "source": [
    "At this point we will be creating our data frame to store our data"
   ]
  },
  {
   "cell_type": "markdown",
   "metadata": {},
   "source": [
    "Here if u notice u will see that we creeated an empty variable.\n",
    "we use this empty variable to make our columns complete in other not to have errors"
   ]
  },
  {
   "cell_type": "code",
   "execution_count": 33,
   "metadata": {},
   "outputs": [],
   "source": [
    "empty = ['Nan', 'Nan', 'Nan', 'Nan']"
   ]
  },
  {
   "cell_type": "code",
   "execution_count": 34,
   "metadata": {},
   "outputs": [],
   "source": [
    "img_url.extend(empty)\n",
    "temperature.extend(empty)\n",
    "short_desc.extend(empty)\n",
    "temperature_cel.extend(empty)"
   ]
  },
  {
   "cell_type": "code",
   "execution_count": 35,
   "metadata": {},
   "outputs": [],
   "source": [
    "data = {\n",
    "    'days': more_desc_for_days,\n",
    "    'temperature':temperature,\n",
    "    'temp_Celcuis':temperature_cel,\n",
    "    'short desc': short_desc,\n",
    "    'image url':img_url,\n",
    "    'description':description\n",
    "}"
   ]
  },
  {
   "cell_type": "code",
   "execution_count": 36,
   "metadata": {},
   "outputs": [],
   "source": [
    "weather_data = pd.DataFrame(data)"
   ]
  },
  {
   "cell_type": "code",
   "execution_count": 37,
   "metadata": {},
   "outputs": [
    {
     "data": {
      "text/html": [
       "<div>\n",
       "<style scoped>\n",
       "    .dataframe tbody tr th:only-of-type {\n",
       "        vertical-align: middle;\n",
       "    }\n",
       "\n",
       "    .dataframe tbody tr th {\n",
       "        vertical-align: top;\n",
       "    }\n",
       "\n",
       "    .dataframe thead th {\n",
       "        text-align: right;\n",
       "    }\n",
       "</style>\n",
       "<table border=\"1\" class=\"dataframe\">\n",
       "  <thead>\n",
       "    <tr style=\"text-align: right;\">\n",
       "      <th></th>\n",
       "      <th>days</th>\n",
       "      <th>temperature</th>\n",
       "      <th>temp_Celcuis</th>\n",
       "      <th>short desc</th>\n",
       "      <th>image url</th>\n",
       "      <th>description</th>\n",
       "    </tr>\n",
       "  </thead>\n",
       "  <tbody>\n",
       "    <tr>\n",
       "      <th>0</th>\n",
       "      <td>This Afternoon</td>\n",
       "      <td>High: 72 °F</td>\n",
       "      <td>345</td>\n",
       "      <td>[Sunny]</td>\n",
       "      <td>https://newimages/medium/skc.png</td>\n",
       "      <td>Sunny, with a high near 72. South southwest wi...</td>\n",
       "    </tr>\n",
       "    <tr>\n",
       "      <th>1</th>\n",
       "      <td>Tonight</td>\n",
       "      <td>Low: 55 °F</td>\n",
       "      <td>328</td>\n",
       "      <td>[Patchy Fog]</td>\n",
       "      <td>https://newimages/medium/nfg.png</td>\n",
       "      <td>Patchy fog after 11pm.  Otherwise, increasing ...</td>\n",
       "    </tr>\n",
       "    <tr>\n",
       "      <th>2</th>\n",
       "      <td>Saturday</td>\n",
       "      <td>High: 78 °F</td>\n",
       "      <td>351</td>\n",
       "      <td>[Patchy Fog, [], then Sunny]</td>\n",
       "      <td>https://DualImage.php?i=fg&amp;j=few</td>\n",
       "      <td>Patchy fog before 11am.  Otherwise, cloudy thr...</td>\n",
       "    </tr>\n",
       "    <tr>\n",
       "      <th>3</th>\n",
       "      <td>Saturday Night</td>\n",
       "      <td>Low: 59 °F</td>\n",
       "      <td>332</td>\n",
       "      <td>[Patchy Fog]</td>\n",
       "      <td>https://newimages/medium/nfg.png</td>\n",
       "      <td>Patchy fog after 11pm.  Otherwise, increasing ...</td>\n",
       "    </tr>\n",
       "    <tr>\n",
       "      <th>4</th>\n",
       "      <td>Sunday</td>\n",
       "      <td>High: 78 °F</td>\n",
       "      <td>351</td>\n",
       "      <td>[Patchy Fog, [], then Mostly, [], Sunny]</td>\n",
       "      <td>https://DualImage.php?i=fg&amp;j=sct</td>\n",
       "      <td>Patchy fog before 11am.  Otherwise, partly sun...</td>\n",
       "    </tr>\n",
       "    <tr>\n",
       "      <th>5</th>\n",
       "      <td>Sunday Night</td>\n",
       "      <td>Low: 56 °F</td>\n",
       "      <td>329</td>\n",
       "      <td>[Patchy Fog]</td>\n",
       "      <td>https://newimages/medium/nfg.png</td>\n",
       "      <td>Patchy fog.  Otherwise, cloudy, with a low aro...</td>\n",
       "    </tr>\n",
       "    <tr>\n",
       "      <th>6</th>\n",
       "      <td>Monday</td>\n",
       "      <td>High: 77 °F</td>\n",
       "      <td>350</td>\n",
       "      <td>[Patchy Fog, [], then Sunny]</td>\n",
       "      <td>https://DualImage.php?i=fg&amp;j=few</td>\n",
       "      <td>Patchy fog before 11am.  Otherwise, mostly sun...</td>\n",
       "    </tr>\n",
       "    <tr>\n",
       "      <th>7</th>\n",
       "      <td>Monday Night</td>\n",
       "      <td>Low: 56 °F</td>\n",
       "      <td>329</td>\n",
       "      <td>[Patchy Fog]</td>\n",
       "      <td>https://newimages/medium/nfg.png</td>\n",
       "      <td>Patchy fog after 11pm.  Otherwise, mostly clou...</td>\n",
       "    </tr>\n",
       "    <tr>\n",
       "      <th>8</th>\n",
       "      <td>Tuesday</td>\n",
       "      <td>High: 81 °F</td>\n",
       "      <td>354</td>\n",
       "      <td>[Patchy Fog, [], then Sunny]</td>\n",
       "      <td>https://DualImage.php?i=fg&amp;j=skc</td>\n",
       "      <td>Patchy fog before 11am.  Otherwise, mostly sun...</td>\n",
       "    </tr>\n",
       "    <tr>\n",
       "      <th>9</th>\n",
       "      <td>Tuesday Night</td>\n",
       "      <td>Nan</td>\n",
       "      <td>Nan</td>\n",
       "      <td>Nan</td>\n",
       "      <td>Nan</td>\n",
       "      <td>Patchy fog after 11pm.  Otherwise, mostly clou...</td>\n",
       "    </tr>\n",
       "    <tr>\n",
       "      <th>10</th>\n",
       "      <td>Wednesday</td>\n",
       "      <td>Nan</td>\n",
       "      <td>Nan</td>\n",
       "      <td>Nan</td>\n",
       "      <td>Nan</td>\n",
       "      <td>Patchy fog.  Otherwise, mostly sunny, with a h...</td>\n",
       "    </tr>\n",
       "    <tr>\n",
       "      <th>11</th>\n",
       "      <td>Wednesday Night</td>\n",
       "      <td>Nan</td>\n",
       "      <td>Nan</td>\n",
       "      <td>Nan</td>\n",
       "      <td>Nan</td>\n",
       "      <td>Patchy fog.  Otherwise, mostly cloudy, with a ...</td>\n",
       "    </tr>\n",
       "    <tr>\n",
       "      <th>12</th>\n",
       "      <td>Thursday</td>\n",
       "      <td>Nan</td>\n",
       "      <td>Nan</td>\n",
       "      <td>Nan</td>\n",
       "      <td>Nan</td>\n",
       "      <td>Patchy fog.  Otherwise, mostly sunny, with a h...</td>\n",
       "    </tr>\n",
       "  </tbody>\n",
       "</table>\n",
       "</div>"
      ],
      "text/plain": [
       "               days  temperature temp_Celcuis  \\\n",
       "0    This Afternoon  High: 72 °F          345   \n",
       "1           Tonight   Low: 55 °F          328   \n",
       "2          Saturday  High: 78 °F          351   \n",
       "3    Saturday Night   Low: 59 °F          332   \n",
       "4            Sunday  High: 78 °F          351   \n",
       "5      Sunday Night   Low: 56 °F          329   \n",
       "6            Monday  High: 77 °F          350   \n",
       "7      Monday Night   Low: 56 °F          329   \n",
       "8           Tuesday  High: 81 °F          354   \n",
       "9     Tuesday Night          Nan          Nan   \n",
       "10        Wednesday          Nan          Nan   \n",
       "11  Wednesday Night          Nan          Nan   \n",
       "12         Thursday          Nan          Nan   \n",
       "\n",
       "                                  short desc  \\\n",
       "0                                    [Sunny]   \n",
       "1                               [Patchy Fog]   \n",
       "2               [Patchy Fog, [], then Sunny]   \n",
       "3                               [Patchy Fog]   \n",
       "4   [Patchy Fog, [], then Mostly, [], Sunny]   \n",
       "5                               [Patchy Fog]   \n",
       "6               [Patchy Fog, [], then Sunny]   \n",
       "7                               [Patchy Fog]   \n",
       "8               [Patchy Fog, [], then Sunny]   \n",
       "9                                        Nan   \n",
       "10                                       Nan   \n",
       "11                                       Nan   \n",
       "12                                       Nan   \n",
       "\n",
       "                           image url  \\\n",
       "0   https://newimages/medium/skc.png   \n",
       "1   https://newimages/medium/nfg.png   \n",
       "2   https://DualImage.php?i=fg&j=few   \n",
       "3   https://newimages/medium/nfg.png   \n",
       "4   https://DualImage.php?i=fg&j=sct   \n",
       "5   https://newimages/medium/nfg.png   \n",
       "6   https://DualImage.php?i=fg&j=few   \n",
       "7   https://newimages/medium/nfg.png   \n",
       "8   https://DualImage.php?i=fg&j=skc   \n",
       "9                                Nan   \n",
       "10                               Nan   \n",
       "11                               Nan   \n",
       "12                               Nan   \n",
       "\n",
       "                                          description  \n",
       "0   Sunny, with a high near 72. South southwest wi...  \n",
       "1   Patchy fog after 11pm.  Otherwise, increasing ...  \n",
       "2   Patchy fog before 11am.  Otherwise, cloudy thr...  \n",
       "3   Patchy fog after 11pm.  Otherwise, increasing ...  \n",
       "4   Patchy fog before 11am.  Otherwise, partly sun...  \n",
       "5   Patchy fog.  Otherwise, cloudy, with a low aro...  \n",
       "6   Patchy fog before 11am.  Otherwise, mostly sun...  \n",
       "7   Patchy fog after 11pm.  Otherwise, mostly clou...  \n",
       "8   Patchy fog before 11am.  Otherwise, mostly sun...  \n",
       "9   Patchy fog after 11pm.  Otherwise, mostly clou...  \n",
       "10  Patchy fog.  Otherwise, mostly sunny, with a h...  \n",
       "11  Patchy fog.  Otherwise, mostly cloudy, with a ...  \n",
       "12  Patchy fog.  Otherwise, mostly sunny, with a h...  "
      ]
     },
     "execution_count": 37,
     "metadata": {},
     "output_type": "execute_result"
    }
   ],
   "source": [
    "weather_data"
   ]
  },
  {
   "cell_type": "markdown",
   "metadata": {},
   "source": []
  },
  {
   "cell_type": "markdown",
   "metadata": {},
   "source": [
    "### Saving the scrap data to a csv file"
   ]
  },
  {
   "cell_type": "code",
   "execution_count": 38,
   "metadata": {},
   "outputs": [],
   "source": [
    "weather_data.to_csv('weather forecast.csv')"
   ]
  },
  {
   "cell_type": "code",
   "execution_count": null,
   "metadata": {},
   "outputs": [
    {
     "data": {
      "application/javascript": [
       "window.require && require([\"base/js/namespace\"],function(Jupyter){Jupyter.notebook.save_checkpoint()})"
      ],
      "text/plain": [
       "<IPython.core.display.Javascript object>"
      ]
     },
     "metadata": {},
     "output_type": "display_data"
    },
    {
     "name": "stdout",
     "output_type": "stream",
     "text": [
      "[jovian] Attempting to save notebook..\r\n"
     ]
    }
   ],
   "source": [
    "jovian.commit(Files='weather forecast.csv')"
   ]
  },
  {
   "cell_type": "code",
   "execution_count": null,
   "metadata": {},
   "outputs": [],
   "source": []
  }
 ],
 "metadata": {
  "kernelspec": {
   "display_name": "Python 3",
   "language": "python",
   "name": "python3"
  },
  "language_info": {
   "codemirror_mode": {
    "name": "ipython",
    "version": 3
   },
   "file_extension": ".py",
   "mimetype": "text/x-python",
   "name": "python",
   "nbconvert_exporter": "python",
   "pygments_lexer": "ipython3",
   "version": "3.7.4"
  }
 },
 "nbformat": 4,
 "nbformat_minor": 4
}
